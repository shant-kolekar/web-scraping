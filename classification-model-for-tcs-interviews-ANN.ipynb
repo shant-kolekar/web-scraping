{
 "cells": [
  {
   "cell_type": "markdown",
   "id": "5894add0",
   "metadata": {},
   "source": [
    "### Performing Binary Classification here."
   ]
  },
  {
   "cell_type": "code",
   "execution_count": 59,
   "id": "2fdfb19e",
   "metadata": {},
   "outputs": [],
   "source": [
    "import pandas as pd\n",
    "import numpy as np\n",
    "from sklearn.preprocessing import LabelEncoder\n",
    "\n",
    "from sklearn.model_selection import GridSearchCV, train_test_split, RepeatedStratifiedKFold,\\\n",
    "        cross_val_score, StratifiedKFold\n",
    "from sklearn.metrics import roc_auc_score\n",
    "import matplotlib.pyplot as plt\n",
    "import nltk\n",
    "import seaborn as sns\n",
    "import warnings\n",
    "warnings.filterwarnings('ignore')"
   ]
  },
  {
   "cell_type": "code",
   "execution_count": 2,
   "id": "b7b5d2c1",
   "metadata": {},
   "outputs": [],
   "source": [
    "df = pd.read_json('tcs_interviews_clean.json')"
   ]
  },
  {
   "cell_type": "code",
   "execution_count": 3,
   "id": "797cc2b5",
   "metadata": {},
   "outputs": [
    {
     "data": {
      "text/html": [
       "<div>\n",
       "<style scoped>\n",
       "    .dataframe tbody tr th:only-of-type {\n",
       "        vertical-align: middle;\n",
       "    }\n",
       "\n",
       "    .dataframe tbody tr th {\n",
       "        vertical-align: top;\n",
       "    }\n",
       "\n",
       "    .dataframe thead th {\n",
       "        text-align: right;\n",
       "    }\n",
       "</style>\n",
       "<table border=\"1\" class=\"dataframe\">\n",
       "  <thead>\n",
       "    <tr style=\"text-align: right;\">\n",
       "      <th></th>\n",
       "      <th>date</th>\n",
       "      <th>text</th>\n",
       "      <th>offer_tag</th>\n",
       "      <th>exp_tag</th>\n",
       "      <th>level_tag</th>\n",
       "      <th>sentiment</th>\n",
       "    </tr>\n",
       "  </thead>\n",
       "  <tbody>\n",
       "    <tr>\n",
       "      <th>0</th>\n",
       "      <td>2023-04-27</td>\n",
       "      <td>I had 3 rounds of interview the process was ve...</td>\n",
       "      <td>Accepted Offer</td>\n",
       "      <td>Positive Experience</td>\n",
       "      <td>Average Interview</td>\n",
       "      <td>positive</td>\n",
       "    </tr>\n",
       "    <tr>\n",
       "      <th>1</th>\n",
       "      <td>2023-04-27</td>\n",
       "      <td>Had a nice experience in interview. Interviewe...</td>\n",
       "      <td>Accepted Offer</td>\n",
       "      <td>Positive Experience</td>\n",
       "      <td>Average Interview</td>\n",
       "      <td>positive</td>\n",
       "    </tr>\n",
       "    <tr>\n",
       "      <th>2</th>\n",
       "      <td>2023-04-26</td>\n",
       "      <td>It was an walk in drive in Bengaluru. They are...</td>\n",
       "      <td>No Offer</td>\n",
       "      <td>Positive Experience</td>\n",
       "      <td>Average Interview</td>\n",
       "      <td>neutral</td>\n",
       "    </tr>\n",
       "    <tr>\n",
       "      <th>3</th>\n",
       "      <td>2023-04-26</td>\n",
       "      <td>This was an on-campus internship opportunity. ...</td>\n",
       "      <td>No Offer</td>\n",
       "      <td>Positive Experience</td>\n",
       "      <td>Average Interview</td>\n",
       "      <td>neutral</td>\n",
       "    </tr>\n",
       "    <tr>\n",
       "      <th>4</th>\n",
       "      <td>2023-04-26</td>\n",
       "      <td>I recently interviewed for a software engineer...</td>\n",
       "      <td>Declined Offer</td>\n",
       "      <td>Positive Experience</td>\n",
       "      <td>Average Interview</td>\n",
       "      <td>positive</td>\n",
       "    </tr>\n",
       "  </tbody>\n",
       "</table>\n",
       "</div>"
      ],
      "text/plain": [
       "        date                                               text  \\\n",
       "0 2023-04-27  I had 3 rounds of interview the process was ve...   \n",
       "1 2023-04-27  Had a nice experience in interview. Interviewe...   \n",
       "2 2023-04-26  It was an walk in drive in Bengaluru. They are...   \n",
       "3 2023-04-26  This was an on-campus internship opportunity. ...   \n",
       "4 2023-04-26  I recently interviewed for a software engineer...   \n",
       "\n",
       "        offer_tag              exp_tag          level_tag sentiment  \n",
       "0  Accepted Offer  Positive Experience  Average Interview  positive  \n",
       "1  Accepted Offer  Positive Experience  Average Interview  positive  \n",
       "2        No Offer  Positive Experience  Average Interview   neutral  \n",
       "3        No Offer  Positive Experience  Average Interview   neutral  \n",
       "4  Declined Offer  Positive Experience  Average Interview  positive  "
      ]
     },
     "execution_count": 3,
     "metadata": {},
     "output_type": "execute_result"
    }
   ],
   "source": [
    "df.head()"
   ]
  },
  {
   "cell_type": "code",
   "execution_count": 5,
   "id": "5b1323d2",
   "metadata": {},
   "outputs": [
    {
     "name": "stdout",
     "output_type": "stream",
     "text": [
      "[==================================================] 100.0% 1662.8/1662.8MB downloaded\n"
     ]
    }
   ],
   "source": [
    "import gensim.downloader as api\n",
    "# Load the pre-trained Word2Vec model\n",
    "word_model = api.load('word2vec-google-news-300')"
   ]
  },
  {
   "cell_type": "code",
   "execution_count": 49,
   "id": "1fb73397",
   "metadata": {},
   "outputs": [],
   "source": [
    "import numpy as np\n",
    "import nltk\n",
    "from sklearn.preprocessing import LabelEncoder\n",
    "\n",
    "\n",
    "def convert_to_numeric(df, cat_cols=['exp_tag','level_tag','sentiment']):\n",
    "    '''\n",
    "    Converts categorical columns into numerical columns by using Label Encoder.\n",
    "    \n",
    "    '''\n",
    "\n",
    "    num_df = df.loc[:,:]\n",
    "    \n",
    "    # encode categorical variables\n",
    "    encoder = LabelEncoder()\n",
    "    for col in cat_cols:\n",
    "        num_df[col] = encoder.fit_transform(num_df[col])\n",
    "\n",
    "    num_df['week_number'] = num_df.date.dt.week\n",
    "    \n",
    "    return num_df\n",
    "\n",
    "\n",
    "def word_embedding(df, word_model):\n",
    "    '''\n",
    "    Convert text column using word embedding.\n",
    "    '''\n",
    "    model = word_model\n",
    "    \n",
    "    # Split the data into text and numerical features\n",
    "    text_features = ['text'] \n",
    "    num_features = ['week_number','exp_tag','level_tag','sentiment']\n",
    "    \n",
    "    df['text'] = df['text'].apply(lambda x: x.lower() if isinstance(x, str) else x)\n",
    "    X_text = df['text'].values.tolist()\n",
    "\n",
    "    num_df = convert_to_numeric(df)\n",
    "    X_num = num_df[num_features].values.astype(float) \n",
    "\n",
    "    # Convert the text data to a matrix of word embeddings\n",
    "    X_emb = np.zeros(((len(X_text)), model.vector_size))\n",
    "    for i, text in enumerate(X_text):\n",
    "        words = nltk.word_tokenize(text)\n",
    "        n_words = len(words)\n",
    "\n",
    "        for word in words:\n",
    "            if word in model.key_to_index:\n",
    "                X_emb[i] += model[word]\n",
    "        X_emb[i] /= len(words)\n",
    "\n",
    "\n",
    "    # Combine the word embeddings and numerical features\n",
    "    final_df = np.hstack((X_emb, X_num))\n",
    "    \n",
    "    final_df = pd.DataFrame(final_df)\n",
    "    final_df.json('tcs_interviews_embedded.json')\n",
    "\n",
    "    return final_df\n"
   ]
  },
  {
   "cell_type": "code",
   "execution_count": 51,
   "id": "a06293e0",
   "metadata": {},
   "outputs": [
    {
     "data": {
      "text/html": [
       "<div>\n",
       "<style scoped>\n",
       "    .dataframe tbody tr th:only-of-type {\n",
       "        vertical-align: middle;\n",
       "    }\n",
       "\n",
       "    .dataframe tbody tr th {\n",
       "        vertical-align: top;\n",
       "    }\n",
       "\n",
       "    .dataframe thead th {\n",
       "        text-align: right;\n",
       "    }\n",
       "</style>\n",
       "<table border=\"1\" class=\"dataframe\">\n",
       "  <thead>\n",
       "    <tr style=\"text-align: right;\">\n",
       "      <th></th>\n",
       "      <th>0</th>\n",
       "      <th>1</th>\n",
       "      <th>2</th>\n",
       "      <th>3</th>\n",
       "      <th>4</th>\n",
       "      <th>5</th>\n",
       "      <th>6</th>\n",
       "      <th>7</th>\n",
       "      <th>8</th>\n",
       "      <th>9</th>\n",
       "      <th>...</th>\n",
       "      <th>294</th>\n",
       "      <th>295</th>\n",
       "      <th>296</th>\n",
       "      <th>297</th>\n",
       "      <th>298</th>\n",
       "      <th>299</th>\n",
       "      <th>300</th>\n",
       "      <th>301</th>\n",
       "      <th>302</th>\n",
       "      <th>303</th>\n",
       "    </tr>\n",
       "  </thead>\n",
       "  <tbody>\n",
       "    <tr>\n",
       "      <th>0</th>\n",
       "      <td>0.019341</td>\n",
       "      <td>0.054074</td>\n",
       "      <td>-0.012604</td>\n",
       "      <td>0.025262</td>\n",
       "      <td>-0.037523</td>\n",
       "      <td>-0.016352</td>\n",
       "      <td>0.031907</td>\n",
       "      <td>-0.080934</td>\n",
       "      <td>0.041269</td>\n",
       "      <td>0.059021</td>\n",
       "      <td>...</td>\n",
       "      <td>-0.047158</td>\n",
       "      <td>0.027246</td>\n",
       "      <td>-0.006235</td>\n",
       "      <td>-0.008864</td>\n",
       "      <td>-0.001546</td>\n",
       "      <td>-0.008393</td>\n",
       "      <td>17.0</td>\n",
       "      <td>2.0</td>\n",
       "      <td>0.0</td>\n",
       "      <td>2.0</td>\n",
       "    </tr>\n",
       "    <tr>\n",
       "      <th>1</th>\n",
       "      <td>0.038391</td>\n",
       "      <td>0.035093</td>\n",
       "      <td>0.019545</td>\n",
       "      <td>0.076247</td>\n",
       "      <td>-0.027285</td>\n",
       "      <td>0.048614</td>\n",
       "      <td>0.017824</td>\n",
       "      <td>-0.057287</td>\n",
       "      <td>0.058668</td>\n",
       "      <td>0.071770</td>\n",
       "      <td>...</td>\n",
       "      <td>-0.046438</td>\n",
       "      <td>-0.012993</td>\n",
       "      <td>0.014942</td>\n",
       "      <td>-0.051896</td>\n",
       "      <td>0.005343</td>\n",
       "      <td>-0.019060</td>\n",
       "      <td>17.0</td>\n",
       "      <td>2.0</td>\n",
       "      <td>0.0</td>\n",
       "      <td>2.0</td>\n",
       "    </tr>\n",
       "    <tr>\n",
       "      <th>2</th>\n",
       "      <td>0.021045</td>\n",
       "      <td>-0.011653</td>\n",
       "      <td>-0.002315</td>\n",
       "      <td>0.060425</td>\n",
       "      <td>-0.041009</td>\n",
       "      <td>-0.031516</td>\n",
       "      <td>0.003201</td>\n",
       "      <td>-0.069079</td>\n",
       "      <td>0.028992</td>\n",
       "      <td>0.042411</td>\n",
       "      <td>...</td>\n",
       "      <td>0.022385</td>\n",
       "      <td>0.047307</td>\n",
       "      <td>0.008924</td>\n",
       "      <td>-0.059210</td>\n",
       "      <td>-0.009727</td>\n",
       "      <td>-0.021606</td>\n",
       "      <td>17.0</td>\n",
       "      <td>2.0</td>\n",
       "      <td>0.0</td>\n",
       "      <td>1.0</td>\n",
       "    </tr>\n",
       "    <tr>\n",
       "      <th>3</th>\n",
       "      <td>-0.007510</td>\n",
       "      <td>0.037825</td>\n",
       "      <td>0.021549</td>\n",
       "      <td>0.062492</td>\n",
       "      <td>-0.017574</td>\n",
       "      <td>-0.033392</td>\n",
       "      <td>0.010293</td>\n",
       "      <td>-0.060444</td>\n",
       "      <td>0.040503</td>\n",
       "      <td>0.038927</td>\n",
       "      <td>...</td>\n",
       "      <td>-0.018809</td>\n",
       "      <td>0.007826</td>\n",
       "      <td>-0.003556</td>\n",
       "      <td>-0.039822</td>\n",
       "      <td>0.007992</td>\n",
       "      <td>-0.030467</td>\n",
       "      <td>17.0</td>\n",
       "      <td>2.0</td>\n",
       "      <td>0.0</td>\n",
       "      <td>1.0</td>\n",
       "    </tr>\n",
       "    <tr>\n",
       "      <th>4</th>\n",
       "      <td>-0.013683</td>\n",
       "      <td>0.012319</td>\n",
       "      <td>0.022256</td>\n",
       "      <td>0.033632</td>\n",
       "      <td>-0.028783</td>\n",
       "      <td>0.001895</td>\n",
       "      <td>0.019214</td>\n",
       "      <td>-0.045545</td>\n",
       "      <td>0.035879</td>\n",
       "      <td>0.021430</td>\n",
       "      <td>...</td>\n",
       "      <td>-0.026411</td>\n",
       "      <td>0.009732</td>\n",
       "      <td>-0.008586</td>\n",
       "      <td>-0.027389</td>\n",
       "      <td>-0.013392</td>\n",
       "      <td>-0.028627</td>\n",
       "      <td>17.0</td>\n",
       "      <td>2.0</td>\n",
       "      <td>0.0</td>\n",
       "      <td>2.0</td>\n",
       "    </tr>\n",
       "  </tbody>\n",
       "</table>\n",
       "<p>5 rows × 304 columns</p>\n",
       "</div>"
      ],
      "text/plain": [
       "        0         1         2         3         4         5         6    \\\n",
       "0  0.019341  0.054074 -0.012604  0.025262 -0.037523 -0.016352  0.031907   \n",
       "1  0.038391  0.035093  0.019545  0.076247 -0.027285  0.048614  0.017824   \n",
       "2  0.021045 -0.011653 -0.002315  0.060425 -0.041009 -0.031516  0.003201   \n",
       "3 -0.007510  0.037825  0.021549  0.062492 -0.017574 -0.033392  0.010293   \n",
       "4 -0.013683  0.012319  0.022256  0.033632 -0.028783  0.001895  0.019214   \n",
       "\n",
       "        7         8         9    ...       294       295       296       297  \\\n",
       "0 -0.080934  0.041269  0.059021  ... -0.047158  0.027246 -0.006235 -0.008864   \n",
       "1 -0.057287  0.058668  0.071770  ... -0.046438 -0.012993  0.014942 -0.051896   \n",
       "2 -0.069079  0.028992  0.042411  ...  0.022385  0.047307  0.008924 -0.059210   \n",
       "3 -0.060444  0.040503  0.038927  ... -0.018809  0.007826 -0.003556 -0.039822   \n",
       "4 -0.045545  0.035879  0.021430  ... -0.026411  0.009732 -0.008586 -0.027389   \n",
       "\n",
       "        298       299   300  301  302  303  \n",
       "0 -0.001546 -0.008393  17.0  2.0  0.0  2.0  \n",
       "1  0.005343 -0.019060  17.0  2.0  0.0  2.0  \n",
       "2 -0.009727 -0.021606  17.0  2.0  0.0  1.0  \n",
       "3  0.007992 -0.030467  17.0  2.0  0.0  1.0  \n",
       "4 -0.013392 -0.028627  17.0  2.0  0.0  2.0  \n",
       "\n",
       "[5 rows x 304 columns]"
      ]
     },
     "execution_count": 51,
     "metadata": {},
     "output_type": "execute_result"
    }
   ],
   "source": [
    "num_df = word_embedding(df, word_model)\n",
    "# num_df = pd.csv('tcs_interviews_embedded.csv')\n",
    "y\n",
    "num_df.head()"
   ]
  },
  {
   "cell_type": "markdown",
   "id": "124fcf4c",
   "metadata": {},
   "source": [
    "### Check Relationship between date and offer "
   ]
  },
  {
   "cell_type": "code",
   "execution_count": 41,
   "id": "8d46cde1",
   "metadata": {},
   "outputs": [
    {
     "data": {
      "text/plain": [
       "<AxesSubplot:xlabel='offer_tag', ylabel='date'>"
      ]
     },
     "execution_count": 41,
     "metadata": {},
     "output_type": "execute_result"
    },
    {
     "data": {
      "image/png": "[encoded data removed]",
      "text/plain": [
       "<Figure size 432x288 with 2 Axes>"
      ]
     },
     "metadata": {
      "needs_background": "light"
     },
     "output_type": "display_data"
    }
   ],
   "source": [
    "contingency_table = pd.crosstab(df['date'].dt.week, df['offer_tag'])\n",
    "sns.heatmap(contingency_table, cmap='YlGnBu')\n",
    "# contingency_table"
   ]
  },
  {
   "cell_type": "markdown",
   "id": "303ac0ec",
   "metadata": {},
   "source": [
    "### Inference for above heatmap\n",
    "* From the patterns observed, it seems that there is a trend where __more offers were given in the earlier weeks of the year__, and the number of __offers__ given __decreased towards week 22.__\n",
    "* This could suggest that the recruitment process may have been more active or successful in the earlier part of the year, or there may have been other factors that influenced the number of offers given to candidates."
   ]
  },
  {
   "cell_type": "code",
   "execution_count": 54,
   "id": "a0b25b92",
   "metadata": {},
   "outputs": [],
   "source": [
    "# Creating X & y\n",
    "\n",
    "# create mapping dictionary\n",
    "offer_map = {'Accepted Offer': 1, 'No Offer': 0, 'Declined Offer': 1}\n",
    "\n",
    "X = num_df\n",
    "y = df['offer_tag'].map(offer_map)\n",
    "\n",
    "y.to_csv('labels.csv')\n",
    "\n",
    "# Split into train and test sets\n",
    "X_train, X_test, y_train, y_test = train_test_split(X, y, test_size=0.3, random_state=42)"
   ]
  },
  {
   "cell_type": "markdown",
   "id": "5f27f9fc",
   "metadata": {},
   "source": [
    "### Check class balance"
   ]
  },
  {
   "cell_type": "code",
   "execution_count": 60,
   "id": "8cfc20af",
   "metadata": {},
   "outputs": [
    {
     "data": {
      "image/png": "[encoded data removed]",
      "text/plain": [
       "<Figure size 432x288 with 1 Axes>"
      ]
     },
     "metadata": {
      "needs_background": "light"
     },
     "output_type": "display_data"
    }
   ],
   "source": [
    "class_count = y.value_counts()\n",
    "\n",
    "# create horizontal stacked bar chart\n",
    "plt.barh(class_count.index[0], class_count[1], label='Class 1')\n",
    "plt.barh(class_count.index[0], class_count[0], left=class_count[1], label='Class 0')\n",
    "\n",
    "# set chart title and axis labels\n",
    "plt.title('Class Balance')\n",
    "plt.xlabel('Number of interviews')\n",
    "plt.legend()\n",
    "\n",
    "# display the chart\n",
    "plt.show()\n"
   ]
  },
  {
   "cell_type": "markdown",
   "id": "30d8ad2b",
   "metadata": {},
   "source": [
    "* There are 9636 total samples in the dataset.\n",
    "* __Class 1__ has a count of 6410 samples, which represents approximately __66.5%__ of the total samples.\n",
    "* __Class 0__ has a count of 3226 samples, which represents approximately __33.5%__ of the total samples."
   ]
  },
  {
   "cell_type": "markdown",
   "id": "aca1e139",
   "metadata": {},
   "source": [
    "### Handling skewed Class balance"
   ]
  },
  {
   "cell_type": "markdown",
   "id": "a5bba4df",
   "metadata": {},
   "source": [
    "* SMOTE (Synthetic Minority Over-sampling Technique) to balance the classes in a binary classification problem"
   ]
  },
  {
   "cell_type": "markdown",
   "id": "5c3b28fe",
   "metadata": {},
   "source": [
    "Without SMOTE"
   ]
  },
  {
   "cell_type": "code",
   "execution_count": null,
   "id": "15ef06bf",
   "metadata": {},
   "outputs": [],
   "source": [
    "# Import necessary libraries\n",
    "import tensorflow as tf\n",
    "from sklearn.model_selection import train_test_split\n",
    "from imblearn.over_sampling import SMOTE\n",
    "from sklearn.metrics import roc_auc_score\n",
    "\n",
    "# Define the neural network architecture\n",
    "model = tf.keras.models.Sequential([\n",
    "    tf.keras.layers.Dense(16, input_dim=X_train.shape[1], activation='relu'),\n",
    "    tf.keras.layers.Dense(8, activation='relu'),\n",
    "    tf.keras.layers.Dense(4, activation='relu'),\n",
    "    tf.keras.layers.Dense(1, activation='sigmoid')\n",
    "\n",
    "    ])\n",
    "# Define optimizer with custom learning rate\n",
    "opt = tf.keras.optimizers.Adam(learning_rate=0.001)\n",
    "\n",
    "# Compile the model\n",
    "model.compile(loss='binary_crossentropy', optimizer=opt, metrics=[tf.keras.metrics.AUC()])\n",
    "\n",
    "# Train the neural network\n",
    "model.fit(X_train, y_train, epochs=100,batch_size=256)\n",
    "\n",
    "# Evaluate performance on test set\n",
    "# Evaluate performance on test set\n",
    "y_pred = model.predict(X_test)\n",
    "auc = roc_auc_score(y_test, y_pred)\n",
    "print(f'Test AUC: {auc}')"
   ]
  },
  {
   "cell_type": "markdown",
   "id": "24fad94d",
   "metadata": {},
   "source": [
    "Test AUC is: 0.704\n",
    "\n",
    "* We tried several algorithms including XGboost, SVM, and Neural Network. Neural network outperformed among all with test accuracy of __0.704__"
   ]
  }
 ],
 "metadata": {
  "kernelspec": {
   "display_name": "Python 3 (ipykernel)",
   "language": "python",
   "name": "python3"
  },
  "language_info": {
   "codemirror_mode": {
    "name": "ipython",
    "version": 3
   },
   "file_extension": ".py",
   "mimetype": "text/x-python",
   "name": "python",
   "nbconvert_exporter": "python",
   "pygments_lexer": "ipython3",
   "version": "3.9.7"
  }
 },
 "nbformat": 4,
 "nbformat_minor": 5
}
